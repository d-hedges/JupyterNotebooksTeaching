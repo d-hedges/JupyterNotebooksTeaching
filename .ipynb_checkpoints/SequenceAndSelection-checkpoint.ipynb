{
 "cells": [
  {
   "cell_type": "markdown",
   "metadata": {},
   "source": [
    "<h1>NUMBER GUESSING GAME</h1>"
   ]
  },
  {
   "attachments": {
    "5a47fae9-3a81-49f4-b088-9063af7a4011.png": {
     "image/png": "[encoded data removed]"
    }
   },
   "cell_type": "markdown",
   "metadata": {
    "slideshow": {
     "slide_type": ""
    },
    "tags": []
   },
   "source": [
    "Today we are making a number guessing game.<br>\n",
    "Your program will:\n",
    " - Pick a random number\n",
    " - Ask the user to input a number\n",
    " - Check if the number is higher or lower\n",
    " - Check if the number is correct\n",
    " - Give feedback to the user\n",
    "<br/><br/>\n",
    "Fill in each question then press the play symbol at the top to run it<br>\n",
    "![{BF721A63-D6AD-44AB-B883-17FB7792F541}.png](attachment:5a47fae9-3a81-49f4-b088-9063af7a4011.png)"
   ]
  },
  {
   "cell_type": "markdown",
   "metadata": {},
   "source": [
    "<br>​<hr />​​​​​​​​​​​​​​​​​​​<br>\n",
    "<h2>Question 1:</h2> This function already works, you just need to fill in some values.\n",
    "<br>Complete the variables for the maximum and minimum values you want the game to be able to guess:"
   ]
  },
  {
   "cell_type": "code",
   "execution_count": 1,
   "metadata": {},
   "outputs": [
    {
     "name": "stdout",
     "output_type": "stream",
     "text": [
      "34\n"
     ]
    }
   ],
   "source": [
    "def randomNumberPicker(): \n",
    "    import random\n",
    "    minValue=0\n",
    "    maxValue=100\n",
    "    answer=random.randint(minValue,maxValue)\n",
    "    return answer\n",
    "print(randomNumberPicker())\n",
    "# Now run this to test it"
   ]
  },
  {
   "cell_type": "markdown",
   "metadata": {},
   "source": [
    "<h2>Question 2:</h2> In the function below, ask the user to input a number\n",
    "<details><summary>Hint</summary>\n",
    "   variable=int(input(\"Question\"))\n",
    "</details>"
   ]
  },
  {
   "cell_type": "code",
   "execution_count": 2,
   "metadata": {},
   "outputs": [
    {
     "name": "stdout",
     "output_type": "stream",
     "text": [
      "Enter num: 10\n"
     ]
    }
   ],
   "source": [
    "def userInput():\n",
    "    #Code Here\n",
    "    #--------\n",
    "    guess = input(\"Enter num: \")\n",
    "    guess = int(guess)\n",
    "\n",
    "    #--------\n",
    "    return guess\n",
    "guess=userInput()"
   ]
  },
  {
   "cell_type": "markdown",
   "metadata": {},
   "source": [
    "<h2>Question 3:</h2>This is where you perform a <Strong>Selection</Strong>. \n",
    "<br>We have two numbers, the users guess and the correct answer.\n",
    "<br>Use an IF statement to tell the user if their guess is <i>bigger</i> or <i>smaller</i>\n",
    "<details><summary>Hint</summary>\n",
    "    <br><strong>Remember your operators:</strong>\n",
    "    <br>==\n",
    "    <br>!=\n",
    "    <br><\n",
    "    <br><=\n",
    "    <br>>\n",
    "    <br>>=\n",
    "</details>"
   ]
  },
  {
   "cell_type": "code",
   "execution_count": 3,
   "metadata": {},
   "outputs": [],
   "source": [
    "def isItBigger(answer,guess):\n",
    "    if guess < answer:\n",
    "        print(\"Bigger\")\n",
    "    \n",
    "    else:\n",
    "        print(\"Smaller\")\n",
    "        "
   ]
  },
  {
   "cell_type": "markdown",
   "metadata": {},
   "source": [
    "<h2>Question 4:</h2>This Function is almost done, its just missing a selection operator. Based on the name of the function, what do you think the operator is?"
   ]
  },
  {
   "cell_type": "code",
   "execution_count": 4,
   "metadata": {},
   "outputs": [],
   "source": [
    "def isItCorrect(answer,guess):\n",
    "    if answer == guess:\n",
    "        return True\n",
    "    else:\n",
    "        return False"
   ]
  },
  {
   "cell_type": "markdown",
   "metadata": {},
   "source": [
    "<h2>Putting it all together</h2>This puts all your answers together into a program.<br> It uses a Loop (We will talk about this later) to repeatedly ask the user to guess until they get it right\n",
    "<br>"
   ]
  },
  {
   "cell_type": "code",
   "execution_count": 5,
   "metadata": {},
   "outputs": [
    {
     "name": "stdout",
     "output_type": "stream",
     "text": [
      "Enter num: 10\n",
      "The Answer Was  15\n",
      "Bigger\n",
      "Enter num: 15\n",
      "Correct! You Guessed the number!\n"
     ]
    }
   ],
   "source": [
    "answer=randomNumberPicker()\n",
    "while True:\n",
    "    guess=userInput()\n",
    "    if isItCorrect(answer,guess)==True:\n",
    "        print(\"Correct! You Guessed the number!\")\n",
    "        break\n",
    "    else:\n",
    "        isItBigger(answer,guess)"
   ]
  },
  {
   "cell_type": "markdown",
   "metadata": {},
   "source": [
    "Thats the end!"
   ]
  },
  {
   "cell_type": "code",
   "execution_count": null,
   "metadata": {},
   "outputs": [],
   "source": []
  }
 ],
 "metadata": {
  "kernelspec": {
   "display_name": "Python 3 (ipykernel)",
   "language": "python",
   "name": "python3"
  },
  "language_info": {
   "codemirror_mode": {
    "name": "ipython",
    "version": 3
   },
   "file_extension": ".py",
   "mimetype": "text/x-python",
   "name": "python",
   "nbconvert_exporter": "python",
   "pygments_lexer": "ipython3",
   "version": "3.9.13"
  }
 },
 "nbformat": 4,
 "nbformat_minor": 4
}
