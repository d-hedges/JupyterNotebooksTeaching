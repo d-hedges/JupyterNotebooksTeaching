{
 "cells": [
  {
   "cell_type": "markdown",
   "metadata": {
    "deletable": false,
    "editable": false
   },
   "source": [
    "<h1>NUMBER GUESSING GAME</h1>"
   ]
  },
  {
   "attachments": {},
   "cell_type": "markdown",
   "metadata": {
    "deletable": false,
    "editable": false
   },
   "source": [
    "Today we are making a number guessing game.<br>\n",
    "Your program will:\n",
    "<br>\n",
    " - Pick a random number\n",
    " - Ask the user to input a number\n",
    " - Check if the number is higher or lower\n",
    " - Check if the number is correct\n",
    " - Give feedback to the user\n",
    "<br><br><strong>To make your game we are going to fill in functions, A function is a small snippet of code that can be used multiple times <br> <ul>For example:</strong>"
   ]
  },
  {
   "cell_type": "code",
   "execution_count": null,
   "metadata": {
    "deletable": false,
    "editable": false
   },
   "outputs": [],
   "source": [
    "def sayHello(name):\n",
    "###^^^Name Of the function\n",
    "\n",
    "    print(\"Hello \" + name)\n",
    "    #^^^Code to be repeated\n",
    "    \n",
    "sayHello(\"Mr Hedgecott\")\n",
    "#^^^The function being used (also known as being \"called\")\n",
    "#Run me to see what I do"
   ]
  },
  {
   "attachments": {
    "image.png": {
     "image/png": "[encoded data removed]"
    }
   },
   "cell_type": "markdown",
   "metadata": {
    "deletable": false,
    "editable": false
   },
   "source": [
    "\n",
    "\n",
    "\n",
    "Fill in each question then press the play symbol at the top to run it<br>\n",
    "\n",
    "![image.png](attachment:image.png)\n",
    "\n",
    "<br>​<hr />​​​​​​​​​​​​​​​​​​​<br>"
   ]
  },
  {
   "cell_type": "markdown",
   "metadata": {
    "deletable": false,
    "editable": false
   },
   "source": [
    "<h2>Question 1:</h2> This function already works, you just need to fill in some values.\n",
    "<br>Complete the variables for the maximum and minimum values you want the game to be able to guess:"
   ]
  },
  {
   "cell_type": "code",
   "execution_count": null,
   "metadata": {},
   "outputs": [],
   "source": [
    "def randomNumberPicker(): \n",
    "    import random\n",
    "    minimumValue=\n",
    "    maximumValue=\n",
    "    answer=random.randint(minimumValue,maximumValue)\n",
    "    return answer\n",
    "print(randomNumberPicker())\n",
    "# Now run this cell to test it"
   ]
  },
  {
   "cell_type": "markdown",
   "metadata": {
    "deletable": false,
    "editable": false
   },
   "source": [
    "<h2>Question 2:</h2> In the function below, ask the user to input a number\n",
    "<details><summary>Hint</summary>\n",
    "   variable=int(input(\"Question\"))\n",
    "</details>"
   ]
  },
  {
   "cell_type": "code",
   "execution_count": null,
   "metadata": {},
   "outputs": [],
   "source": [
    "def userInput():\n",
    "    #Code Here\n",
    "    #--------\n",
    "    guess=\n",
    "\n",
    "    #--------\n",
    "    return guess\n",
    "#End Of the Function\n",
    "\n",
    "\n",
    "guess=userInput()\n",
    "print(guess)\n",
    "# Now run this cell to test it"
   ]
  },
  {
   "cell_type": "markdown",
   "metadata": {
    "deletable": false,
    "editable": false
   },
   "source": [
    "<h2>Question 3:</h2>This is where you perform a <Strong>Selection</Strong>. \n",
    "<br>We have two numbers, the users guess and the correct answer.\n",
    "<br>Use an IF statement to tell the user if their guess is <i>bigger</i> or <i>smaller</i>\n",
    "<details><summary>Hint</summary>\n",
    "    <br><strong>Remember your operators:</strong>\n",
    "    <br>==\n",
    "    <br>!=\n",
    "    <br><\n",
    "    <br><=\n",
    "    <br>>\n",
    "    <br>>=\n",
    "    <br> <strong> Don't forget the colon on your IF statement!\n",
    "</details>"
   ]
  },
  {
   "cell_type": "code",
   "execution_count": null,
   "metadata": {},
   "outputs": [],
   "source": [
    "def isItBigger(answer,guess):\n",
    "    if \n",
    "        print(\"You need to guess bigger\")\n",
    "    else:\n",
    "        print(\"You need to guess smaller\")\n",
    "\n",
    "#End of the function   \n",
    "\n",
    "isItBigger(10,5)\n",
    "#Now run this cell to test it\n",
    "#It should output \"You need to guess bigger\"\n",
    "#You can change the values above to test other numbers"
   ]
  },
  {
   "cell_type": "markdown",
   "metadata": {
    "deletable": false,
    "editable": false
   },
   "source": [
    "<h2>Question 4:</h2>This Function is almost done, its just missing a selection operator. Based on the name of the function, what do you think the operator is?"
   ]
  },
  {
   "cell_type": "code",
   "execution_count": null,
   "metadata": {},
   "outputs": [],
   "source": [
    "def isItCorrect(answer,guess):\n",
    "    if \n",
    "        return True\n",
    "    else:\n",
    "        return False\n",
    "#End of the function \n",
    "\n",
    "\n",
    "print(isItCorrect(10,10))\n",
    "print(isItCorrect(10,5))\n",
    "# Now run this cell to test it\n",
    "# You should get:\n",
    "# True\n",
    "# False"
   ]
  },
  {
   "cell_type": "markdown",
   "metadata": {
    "deletable": false,
    "editable": false
   },
   "source": [
    "<h2>Putting it all together</h2>This puts all your answers together into a program.<br> It uses a Loop (We will talk about this later) to repeatedly ask the user to guess until they get it right. <br> No need to change this, Just run it and see if it works\n",
    "<br>"
   ]
  },
  {
   "cell_type": "code",
   "execution_count": null,
   "metadata": {
    "deletable": false,
    "editable": false
   },
   "outputs": [],
   "source": [
    "answer=randomNumberPicker()\n",
    "while True:\n",
    "    guess=userInput()\n",
    "    if isItCorrect(answer,guess)==True:\n",
    "        print(\"Correct! You Guessed the number!\")\n",
    "        break\n",
    "    else:\n",
    "        isItBigger(answer,guess)"
   ]
  },
  {
   "cell_type": "markdown",
   "metadata": {
    "deletable": false,
    "editable": false
   },
   "source": [
    "<h2>Extra Task:</h2>\n",
    "<br>Whats the best way to guess numbers to minimise the number of guesses?"
   ]
  },
  {
   "cell_type": "markdown",
   "metadata": {},
   "source": []
  }
 ],
 "metadata": {
  "celltoolbar": "Edit Metadata",
  "kernelspec": {
   "display_name": "Python 3 (ipykernel)",
   "language": "python",
   "name": "python3"
  },
  "language_info": {
   "codemirror_mode": {
    "name": "ipython",
    "version": 3
   },
   "file_extension": ".py",
   "mimetype": "text/x-python",
   "name": "python",
   "nbconvert_exporter": "python",
   "pygments_lexer": "ipython3",
   "version": "3.9.13"
  }
 },
 "nbformat": 4,
 "nbformat_minor": 4
}
