{
  "metadata": {
    "kernelspec": {
      "name": "python",
      "display_name": "Python (Pyodide)",
      "language": "python"
    },
    "language_info": {
      "codemirror_mode": {
        "name": "python",
        "version": 3
      },
      "file_extension": ".py",
      "mimetype": "text/x-python",
      "name": "python",
      "nbconvert_exporter": "python",
      "pygments_lexer": "ipython3",
      "version": "3.8"
    }
  },
  "nbformat_minor": 4,
  "nbformat": 4,
  "cells": [
    {
      "cell_type": "markdown",
      "source": "<h1>NUMBER GUESSING GAME</h1>",
      "metadata": {}
    },
    {
      "cell_type": "markdown",
      "source": "Today we are making a number guessing game.<br>\nYour program will:\n - Pick a random number\n - Ask the user to input a number\n - Check if the number is higher or lower\n - Check if the number is correct\n - Give feedback to the user\n<br/><br/>\nFill in each question then press the play symbol at the top to run it<br>\n![{BF721A63-D6AD-44AB-B883-17FB7792F541}.png](attachment:5a47fae9-3a81-49f4-b088-9063af7a4011.png)",
      "metadata": {
        "tags": [],
        "editable": true,
        "slideshow": {
          "slide_type": ""
        }
      },
      "attachments": {
        "5a47fae9-3a81-49f4-b088-9063af7a4011.png": {
          "image/png": "[encoded data removed]"
        }
      }
    },
    {
      "cell_type": "markdown",
      "source": "<br>​<hr />​​​​​​​​​​​​​​​​​​​<br>\n<h2>Question 1:</h2> This function already works, you just need to fill in some values.\n<br>Complete the variables for the maximum and minimum values you want the game to be able to guess:",
      "metadata": {}
    },
    {
      "cell_type": "code",
      "source": "def randomNumberPicker(): \n    import random\n    minValue=8\n    maxValue=10\n    answer=random.randint(minValue,maxValue)\n    return answer\nprint(randomNumberPicker())\n# Now run this to test it",
      "metadata": {
        "trusted": true
      },
      "outputs": [
        {
          "name": "stdout",
          "text": "8\n",
          "output_type": "stream"
        }
      ],
      "execution_count": 1
    },
    {
      "cell_type": "markdown",
      "source": "<h2>Question 2:</h2> In the function below, ask the user to input a number\n<details><summary>Hint</summary>\n   variable=int(input(\"Question\"))\n</details>",
      "metadata": {}
    },
    {
      "cell_type": "code",
      "source": "def userInput():\n    #Code Here\n    #--------\n    guess = await input(\"Enter num: \")\n    guess = int(guess)\n\n    #--------\n    return guess\nguess=userInput()",
      "metadata": {
        "trusted": true
      },
      "outputs": [
        {
          "ename": "<class 'TypeError'>",
          "evalue": "int() argument must be a string, a bytes-like object or a real number, not 'PyodideFuture'",
          "traceback": [
            "\u001b[0;31m---------------------------------------------------------------------------\u001b[0m",
            "\u001b[0;31mTypeError\u001b[0m                                 Traceback (most recent call last)",
            "Cell \u001b[0;32mIn[4], line 9\u001b[0m\n\u001b[1;32m      7\u001b[0m     \u001b[38;5;66;03m#--------\u001b[39;00m\n\u001b[1;32m      8\u001b[0m     \u001b[38;5;28;01mreturn\u001b[39;00m guess\n\u001b[0;32m----> 9\u001b[0m guess\u001b[38;5;241m=\u001b[39m\u001b[43muserInput\u001b[49m\u001b[43m(\u001b[49m\u001b[43m)\u001b[49m\n",
            "Cell \u001b[0;32mIn[4], line 5\u001b[0m, in \u001b[0;36muserInput\u001b[0;34m()\u001b[0m\n\u001b[1;32m      1\u001b[0m \u001b[38;5;28;01mdef\u001b[39;00m \u001b[38;5;21muserInput\u001b[39m():\n\u001b[1;32m      2\u001b[0m     \u001b[38;5;66;03m#Code Here\u001b[39;00m\n\u001b[1;32m      3\u001b[0m     \u001b[38;5;66;03m#--------\u001b[39;00m\n\u001b[1;32m      4\u001b[0m     guess \u001b[38;5;241m=\u001b[39m \u001b[38;5;28minput\u001b[39m(\u001b[38;5;124m\"\u001b[39m\u001b[38;5;124mEnter num: \u001b[39m\u001b[38;5;124m\"\u001b[39m)\n\u001b[0;32m----> 5\u001b[0m     guess \u001b[38;5;241m=\u001b[39m \u001b[38;5;28;43mint\u001b[39;49m\u001b[43m(\u001b[49m\u001b[43mguess\u001b[49m\u001b[43m)\u001b[49m\n\u001b[1;32m      7\u001b[0m     \u001b[38;5;66;03m#--------\u001b[39;00m\n\u001b[1;32m      8\u001b[0m     \u001b[38;5;28;01mreturn\u001b[39;00m guess\n",
            "\u001b[0;31mTypeError\u001b[0m: int() argument must be a string, a bytes-like object or a real number, not 'PyodideFuture'"
          ],
          "output_type": "error"
        }
      ],
      "execution_count": 4
    },
    {
      "cell_type": "markdown",
      "source": "<h2>Question 3:</h2>This is where you perform a <Strong>Selection</Strong>. \n<br>We have two numbers, the users guess and the correct answer.\n<br>Use an IF statement to tell the user if their guess is <i>bigger</i> or <i>smaller</i>\n<details><summary>Hint</summary>\n    <br><strong>Remember your operators:</strong>\n    <br>==\n    <br>!=\n    <br><\n    <br><=\n    <br>>\n    <br>>=\n</details>",
      "metadata": {}
    },
    {
      "cell_type": "code",
      "source": "def isItBigger(answer,guess):\n    if guess > answer:\n        print(\"Bigger\")\n    \n    else:\n        print(\"Smaller\")\n        ",
      "metadata": {
        "trusted": true
      },
      "outputs": [],
      "execution_count": null
    },
    {
      "cell_type": "markdown",
      "source": "<h2>Question 4:</h2>This Function is almost done, its just missing a selection operator. Based on the name of the function, what do you think the operator is?",
      "metadata": {}
    },
    {
      "cell_type": "code",
      "source": "def isItCorrect(answer,guess):\n    if answer == guess:\n        return True\n    else:\n        return False",
      "metadata": {
        "trusted": true
      },
      "outputs": [],
      "execution_count": null
    },
    {
      "cell_type": "markdown",
      "source": "<h2>Putting it all together</h2>This puts all your answers together into a program.<br> It uses a Loop (We will talk about this later) to repeatedly ask the user to guess until they get it right\n<br>",
      "metadata": {}
    },
    {
      "cell_type": "code",
      "source": "answer=randomNumberPicker()\nwhile True:\n    guess=userInput()\n    if isItCorrect(answer,guess)==True:\n        print(\"Correct! You Guessed the number!\")\n        break\n    else:\n        isItBigger(answer,guess)",
      "metadata": {
        "trusted": true
      },
      "outputs": [],
      "execution_count": null
    }
  ]
}